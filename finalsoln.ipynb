{
 "cells": [
  {
   "cell_type": "code",
   "execution_count": 1,
   "metadata": {},
   "outputs": [],
   "source": [
    "import numpy as np\n",
    "import pandas as pd"
   ]
  },
  {
   "cell_type": "code",
   "execution_count": 2,
   "metadata": {},
   "outputs": [],
   "source": [
    "df = pd.read_csv(\"data/train (7).csv\", index_col=0)\n",
    "train_data = df.copy()"
   ]
  },
  {
   "cell_type": "code",
   "execution_count": 3,
   "metadata": {},
   "outputs": [],
   "source": [
    "test = pd.read_csv('data/test (4).csv', index_col=0)"
   ]
  },
  {
   "cell_type": "code",
   "execution_count": 4,
   "metadata": {},
   "outputs": [],
   "source": [
    "X = df.drop(columns=['target'])\n",
    "y = df['target']"
   ]
  },
  {
   "cell_type": "code",
   "execution_count": 6,
   "metadata": {},
   "outputs": [
    {
     "name": "stdout",
     "output_type": "stream",
     "text": [
      "Fold 1 RMSE: 2.015768367680586\n",
      "Fold 2 RMSE: 1.9103012720653367\n",
      "Fold 3 RMSE: 1.9444392181946066\n",
      "Fold 4 RMSE: 1.9846446917455578\n",
      "Fold 5 RMSE: 2.0135768699494077\n",
      "Fold 6 RMSE: 1.8855857121149355\n",
      "Fold 7 RMSE: 2.2178263978508044\n",
      "Fold 8 RMSE: 1.9774893491846948\n",
      "Fold 9 RMSE: 2.0290644530096693\n",
      "Fold 10 RMSE: 1.9689342279799642\n",
      "Fold 11 RMSE: 1.9487573510703615\n",
      "Fold 12 RMSE: 1.9160928425089365\n",
      "Fold 13 RMSE: 2.0348872517270205\n",
      "Fold 14 RMSE: 2.0091485270656766\n",
      "Fold 15 RMSE: 1.9171111264336769\n",
      "[ -34.90182375 -132.51930727  255.83522237 ... -627.00743922  280.45314975\n",
      "  -98.89339966]\n"
     ]
    }
   ],
   "source": [
    "from sklearn.feature_selection import RFE\n",
    "from sklearn.model_selection import KFold\n",
    "from sklearn.metrics import mean_squared_error\n",
    "from sklearn.linear_model import LinearRegression\n",
    "n_folds = 15\n",
    "weights = []\n",
    "kf = KFold(n_splits=n_folds, shuffle=True, random_state=42)\n",
    "train_data = X\n",
    "train_target = y\n",
    "\n",
    "estimator = LinearRegression()\n",
    "selector = RFE(estimator, n_features_to_select=92, step=1)\n",
    "selector.fit(train_data, train_target)\n",
    "rfe_train_data = train_data.iloc[:, selector.support_]\n",
    "test_data = test.iloc[:, selector.support_]\n",
    "test_preds = np.zeros((test_data.shape[0],))\n",
    "\n",
    "for fold, (train_idx, val_idx) in enumerate(kf.split(train_data)):\n",
    "    X_train, y_train = rfe_train_data.iloc[train_idx], train_target[train_idx]\n",
    "    X_val, y_val = rfe_train_data.iloc[val_idx], train_target[val_idx]\n",
    "\n",
    "    model = LinearRegression()\n",
    "    model.fit(X_train, y_train)\n",
    "\n",
    "    val_preds = model.predict(X_val)\n",
    "    fold_rmse = mean_squared_error(y_val, val_preds, squared=False)\n",
    "    weights.append(1 / fold_rmse)\n",
    "    print(f'Fold {fold+1} RMSE: {fold_rmse}')\n",
    "    test_preds += model.predict(test_data) * weights[fold]\n",
    "test_preds /= sum(weights)\n",
    "\n",
    "print(test_preds)"
   ]
  }
 ],
 "metadata": {
  "kernelspec": {
   "display_name": "Python 3",
   "language": "python",
   "name": "python3"
  },
  "language_info": {
   "codemirror_mode": {
    "name": "ipython",
    "version": 3
   },
   "file_extension": ".py",
   "mimetype": "text/x-python",
   "name": "python",
   "nbconvert_exporter": "python",
   "pygments_lexer": "ipython3",
   "version": "3.11.5"
  }
 },
 "nbformat": 4,
 "nbformat_minor": 2
}
